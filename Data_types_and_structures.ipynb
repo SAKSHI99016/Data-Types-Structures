{
  "nbformat": 4,
  "nbformat_minor": 0,
  "metadata": {
    "colab": {
      "provenance": []
    },
    "kernelspec": {
      "name": "python3",
      "display_name": "Python 3"
    },
    "language_info": {
      "name": "python"
    }
  },
  "cells": [
    {
      "cell_type": "code",
      "execution_count": null,
      "metadata": {
        "id": "ZJ7a6BmfHY17"
      },
      "outputs": [],
      "source": [
        "Q.1) What are data structures and why are they important?"
      ]
    },
    {
      "cell_type": "markdown",
      "source": [
        "==)) DATA STRUCTURE= It refers to the way data is organized, stored & manipulated in a computer so that it canbe efficiently accessed and used.\n",
        "Data structure are essential for main two reason:-\n",
        "they make the code more efficient, and they make the code easier to understand."
      ],
      "metadata": {
        "id": "dB31Vws6H5Dx"
      }
    },
    {
      "cell_type": "code",
      "source": [
        "Q.2) Explain the difference between mutable and immutable data types with examples."
      ],
      "metadata": {
        "id": "sOhkUBLMIjM3"
      },
      "execution_count": null,
      "outputs": []
    },
    {
      "cell_type": "markdown",
      "source": [
        "==)) Mutable: #Definition= objects whose state or value canbe changed after they are created.\n",
        "              #Examples= lists, dictionaries, sets.\n",
        "              #Memory allocation= can modify in place without creating a new object.\n",
        "              #Behaviour with assignment= assigning a new reference does not affect other references.\n",
        "\n",
        "   Immutable: #Definition= objects whose state or value cannot be changed once they are created.\n",
        "              #Examples= integars,floats,strings,tuples,frozensets.\n",
        "              #Memory allocation= creating a new object is required when attempting to modify.\n",
        "              #Behaviour with assignment= assigning a new reference creates a new objects, leaving the original unchanged."
      ],
      "metadata": {
        "id": "u1rqttdxIw_j"
      }
    },
    {
      "cell_type": "code",
      "source": [
        "Q.3) What are the main differences between lists and tuples in python?"
      ],
      "metadata": {
        "id": "aMStda8OKLKO"
      },
      "execution_count": null,
      "outputs": []
    },
    {
      "cell_type": "markdown",
      "source": [
        "==)) LIST: #Mutability= mutable\n",
        "           #Syntax= enclosed in square[] bracket.\n",
        "           #Length= it canbe changed, i.e.,a new element canbe added.\n",
        "           #Operation= elements canbe added, removed or modified.\n",
        "           #Examples= employee=['A', 'B', 'C']\n",
        "\n",
        "    TUPLE: #Mutability= immutable\n",
        "           #Syntax= enclosed in square(()) bracket.\n",
        "           #Length= length is fixed,i.e,new elements cannot be added.\n",
        "           #Operation= it supports indexing, slicing and iterating over elements.\n",
        "           #Example= employee number= (1001,1002,1003)\n",
        "           "
      ],
      "metadata": {
        "id": "R3SWCYi9KTt3"
      }
    },
    {
      "cell_type": "code",
      "source": [
        "Q.4) Describe how dictionaries store data.\n"
      ],
      "metadata": {
        "id": "Ha-bumwRLser"
      },
      "execution_count": null,
      "outputs": []
    },
    {
      "cell_type": "markdown",
      "source": [
        "==)) Python dictionaries store data as key-value pairs, using a hash table implementation for efficient data retrieval, allowing quick access to values using their unique keys.\n",
        "\n",
        "#Key-value pairs= dictionaries consist of pairs where each key is associated with a unique value.\n",
        "#Hash table implementation= python dictionaries are implemented as hash tables, which use a hashing algorithm to map keys to their corresponding memory loactions for fast access.\n",
        "#Example=  my_dict: {\"name\": \"Alice\", \"age\":30, \"city\": \"Kolkata\"}\n",
        "           print(my_dict[\"name\"])\n",
        "           print(my_dict[\"city\"])\n",
        "          OUTPUT- Alice\n",
        "                  Kolkata\n",
        "                  "
      ],
      "metadata": {
        "id": "_WcQLTXWLzvf"
      }
    },
    {
      "cell_type": "code",
      "source": [
        "Q.5) Why might you use a set instead of a list in python?"
      ],
      "metadata": {
        "id": "pPh10swwNbAH"
      },
      "execution_count": null,
      "outputs": []
    },
    {
      "cell_type": "markdown",
      "source": [
        "==)) There are some important points to the understanding of set instead of list in python:-\n",
        "\n",
        "# If you dont want the values in the data to change, you can use a set. But if you want the items to change, you can use a list.\n",
        "# A set, on the other hand, is an unordered collection of unique elemets.\n",
        "# A list in python is an ordered collections of elements that can contain duplicates.\n",
        "# Examples of a set:\n",
        "  my_set= {1,2,3,4,5}  -)no duplicates elements\n",
        "  print(3 in my_set)   -)output= TRUE\n",
        "#Examples of a list:\n",
        "  my_list= [1,2,3,4,5,1,2]  -)duplicates elements allowed\n",
        "  print(3 in my_list)       -)output= TRUE"
      ],
      "metadata": {
        "id": "_017WtZpNjKt"
      }
    },
    {
      "cell_type": "code",
      "source": [
        "Q.6) What is a string in python, and how is it different from a list?"
      ],
      "metadata": {
        "id": "5hAE5NvYPLhA"
      },
      "execution_count": null,
      "outputs": []
    },
    {
      "cell_type": "markdown",
      "source": [
        "==)) STRING= In python, a string is a sequence of characters, like \"Hello, world!\", and is used to store and manipulate text.\n",
        "\n",
        "String is differ from a list. How?\n",
        "# strings are immutable sequences of characters, while lists are mutable sequences that can contain various data types.\n",
        "# Strings are enclosed in single or double quotes.\n",
        "# Lists items are enclosed in square brackets[].\n",
        "# If you need to modify a string, you must create a new one.\n",
        "# But, in list you can change them after creation by adding, removing or replacing elements.\n"
      ],
      "metadata": {
        "id": "uBqc0JXzPYyJ"
      }
    },
    {
      "cell_type": "code",
      "source": [
        "Q.7) How do tuples ensure data integrity in python?\n"
      ],
      "metadata": {
        "id": "6DRX2yuHQqJJ"
      },
      "execution_count": null,
      "outputs": []
    },
    {
      "cell_type": "markdown",
      "source": [
        "==)) Tuples in python are immutable, meaning once they are created, they cannot be changed. This charateristics canbe leveraged for data integrity by using tuples for data that should not be modified after creation.\n"
      ],
      "metadata": {
        "id": "EecfXLgRQzLw"
      }
    },
    {
      "cell_type": "code",
      "source": [
        "Q.8) What is a hash table, and how does it relate to dictionaries in python?\n"
      ],
      "metadata": {
        "id": "yxRKas2KRO-6"
      },
      "execution_count": null,
      "outputs": []
    },
    {
      "cell_type": "markdown",
      "source": [
        "==)) Hash Table= A hash table is a data structure that is used to store keys/value pairs.\n",
        "\n",
        "How dictionaries use hash tables.\n",
        "# In python, the dict data type(dictionaries) is built on top of a hash table implementation.\n",
        "# When you create a dictionary, python uses a hash function to calculate a hash code for each key.\n",
        "# This hash code is then used to determine the index in the underlying array where the value associated with that key will be sorted.\n",
        "# This allows for very fast retrieval of values by using the keys as input to the hash function."
      ],
      "metadata": {
        "id": "0GUMDV34RY_8"
      }
    },
    {
      "cell_type": "code",
      "source": [
        "Q.9) Can lists contain different data types in python?"
      ],
      "metadata": {
        "id": "phGafov_S2a1"
      },
      "execution_count": null,
      "outputs": []
    },
    {
      "cell_type": "markdown",
      "source": [
        "==)) A list in python CAN contain different types of data. Each item in the list is separated by a comma and the entire list is enclosed in square brackets[].\n",
        "To add a new item to the list, just edit the list starting before the closing bracket. add a comma and the new item. It doesnot matter what the type is for the previous item.\n",
        "In the example below, the elements list contains the name of an element and its atomic number and mass. The list then contains the same data for another element. The data types contained in the list are strings, integars, and floating point values.\n",
        "\n",
        " elements= ['Hydrogen', 1, 1.007825, 'Helium', 2, 4.00260]"
      ],
      "metadata": {
        "id": "LrPjAlYRS_GT"
      }
    },
    {
      "cell_type": "code",
      "source": [
        "Q.10) Explain why strings are immutable in python.\n"
      ],
      "metadata": {
        "id": "JyfYOVLTUYRI"
      },
      "execution_count": null,
      "outputs": []
    },
    {
      "cell_type": "markdown",
      "source": [
        "==)) In python, strings are immutable, which means that once a string is created, it cannot be modified.\n",
        "However, the replace () method canbe used to create a new string with some of the characters in the original string replaced with different characters.\n",
        "This is done by calling the replace() method on a string, passing in the characters that you want to replace, and specifying the replacement characters. The original string is not modified, but a new string is returned with the specified replacements."
      ],
      "metadata": {
        "id": "aQIXkJuBUesX"
      }
    },
    {
      "cell_type": "code",
      "source": [
        "Q.11) What advantages do dictionaries offer over lists for certain tasks?\n"
      ],
      "metadata": {
        "id": "XE59zpfNWsRK"
      },
      "execution_count": null,
      "outputs": []
    },
    {
      "cell_type": "markdown",
      "source": [
        "==)) Dictionaries excel over lists when you need efficient data retrieval by key, offer flexibility in data organization, and require clear code readability for key-value pairs.\n",
        "Advantages:- # key-value pair organization\n",
        "             # dynamic size\n",
        "             # readability\n",
        "             # fast lookup, etc.\n",
        "When dictionaries are better:- # data retrieval by key\n",
        "                               # associating data\n",
        "                               # handling complex data\n",
        "                               # building lookup tables\n",
        "When lists are better:- # sequential data\n",
        "                        # modifying data\n",
        "                        # simple iteration\n",
        "                        # storage and retrieval by index."
      ],
      "metadata": {
        "id": "ae2VOi4vW3xL"
      }
    },
    {
      "cell_type": "code",
      "source": [
        "Q.12) Describe a scenario where using a tuple would be preferable over a list.\n"
      ],
      "metadata": {
        "id": "KHFhf13OYTWh"
      },
      "execution_count": null,
      "outputs": []
    },
    {
      "cell_type": "markdown",
      "source": [
        "==)) Tuples are immutable. Hence, they are primarily used to store data that does not change frequently. Any operation can store data in a tuple when you donot want it to change.\n",
        "Tuples are great to use if you want the data in your collection to be read-only, never to change, and always remain the same and constant.\n",
        "It is beneficial when you need to store values that donot change over time, like a person's birthdate or height."
      ],
      "metadata": {
        "id": "X1EPUADrYght"
      }
    },
    {
      "cell_type": "code",
      "source": [
        "Q.13) How do sets handle duplicate values in python?"
      ],
      "metadata": {
        "id": "_JqQO36FZZ2H"
      },
      "execution_count": null,
      "outputs": []
    },
    {
      "cell_type": "markdown",
      "source": [
        "==)) To remove duplicates from a python list while preserving order, create a dictionary from the list and then extract its keys as a new list:\n",
        "     list(dict.fromkeys(my_list))\n",
        "  Let's look at the steps required to remove duplicates from a list using this technique:-\n",
        "  # The list is cast into a set, which removes all the duplicates.\n",
        "  # The set is cast back into a new list, which only contains unique values.\n",
        "  "
      ],
      "metadata": {
        "id": "NSSxchIQZgyw"
      }
    },
    {
      "cell_type": "code",
      "source": [
        "Q.14) How does the \"in\" keyword work differently for lists and dictionaries?"
      ],
      "metadata": {
        "id": "Q4JY3uQ0aiG2"
      },
      "execution_count": null,
      "outputs": []
    },
    {
      "cell_type": "markdown",
      "source": [
        "==)) In python, lists are ordered collections of items, accessed by index, while dictionaries store key-value pairs and are accessed by keys.\n",
        "Lists are mutable(changeable), while dictionaries are also mutable.\n",
        "\n",
        "# List Examples:\n",
        "   #creating a list\n",
        "    my_list= [1,2,3,\"apple\",True]\n",
        "    print (my_list)\n",
        "    output: [1,2,3,'apple',True]\n",
        "   #accessing elements by indexing\n",
        "    print(my_list[0])   -)1\n",
        "    print(my_list[3])   -)apple\n",
        "   #modifying a list\n",
        "    my_list[0]=10      \n",
        "    print(my_list)      -)[10,2,3,'apple',True]\n",
        "   #adding elements\n",
        "    my_list.append(\"banana\")\n",
        "    print(my_list)      -)[10,2,3,'apple',True,'banana']\n",
        "   #removing elements\n",
        "    my_list.remove(\"apple\")\n",
        "    print(my_list)      -)[10,2,3,True,'banana']\n",
        "\n",
        "#Dictionary Examples:\n",
        "   #creating a dictionary\n",
        "    my_dict= {\"name\": \"Alice\", \"age\": 30, \"city\": \"New York\"}\n",
        "    print(my_dict)\n",
        "    output-) {'name': 'Alice', 'age': 30, 'city': 'New York'}\n",
        "   #accessing values by key\n",
        "    print(my_dict[\"name\"])     -)Alice\n",
        "    print(my_dict[\"city\"])     -)New York\n",
        "   #modifying a dictionary\n",
        "    my_dict[\"age\"]             -)30\n",
        "    print(my_dict)             -){'name': 'Alice', 'age':30, 'city': 'New York'}\n",
        "   #adding a new key-value pair\n",
        "    my_dict[\"occupation\"]= \"Engineer\"\n",
        "    print(my_dict)             -){'name': 'Alice', 'age': 30, 'city': 'New York', 'occupation': 'Engineer'}\n",
        "   #removing a key-value pair\n",
        "    del my_dict[\"city\"]\n",
        "    print(my_dict)             -){'name': 'Alice', 'age':30, 'occupation': 'Engineer'}"
      ],
      "metadata": {
        "id": "OFiyZq-vawGj"
      }
    },
    {
      "cell_type": "code",
      "source": [
        "Q.15) Can you modify the elements of a tuple? Explain why or why not.\n"
      ],
      "metadata": {
        "id": "Gpy8zSImgdPH"
      },
      "execution_count": null,
      "outputs": []
    },
    {
      "cell_type": "markdown",
      "source": [
        "==)) No, you cannot directly modify the elements of a tuple once it has been created. Tuples are immutable data structures, meaning their contents cannot be changed after they are defined.\n",
        "\n",
        "Why?\n",
        "#Immutability= tuples are desgined to be immutable, ensuring their contents remain constant after creation.\n",
        "#Efficiency= the immutability of tuples allows for optimizations like memory management and caching, as the interpreter can assume the data will not change.\n",
        "#Data Integrity.\n",
        "\n",
        "Why not?\n",
        "Due to tuple's immutability, the contents of a tuple cannot change once it has been created in python."
      ],
      "metadata": {
        "id": "hf8V9uuMg211"
      }
    },
    {
      "cell_type": "code",
      "source": [
        "Q.16) What ia s nested dictionary, and give an example of its use case?\n"
      ],
      "metadata": {
        "id": "yBtmjaNCiLrb"
      },
      "execution_count": null,
      "outputs": []
    },
    {
      "cell_type": "markdown",
      "source": [
        "==)) Nested Dictionaries= Nested dictionaries in python refer to dictionaries that are stored as values within another dictionary.\n",
        "\n",
        "Use Cases.\n",
        "# people= {1:{'name': 'John', 'age': 27, 'sex': 'Male'}\n",
        "           2:{'name': 'Marie', 'age': 22, 'sex': 'Female'}}\n",
        "  print(people)\n",
        "  -) {1:{'name': 'John', 'age': 27, 'sex': 'Male'}, 2:{'name': 'Marie', 'age': 22, 'sex': 'Female'}}\n",
        "  "
      ],
      "metadata": {
        "id": "V0wxKppcihtR"
      }
    },
    {
      "cell_type": "code",
      "source": [
        "Q.17) Describe the time complexity of accessing elements in a dictionary.\n"
      ],
      "metadata": {
        "id": "it6WDopHj447"
      },
      "execution_count": null,
      "outputs": []
    },
    {
      "cell_type": "markdown",
      "source": [
        "==)) The time complexity of dictionary operations in python depends on the size of the dictionary and the specific operation being performed. Here's a summary of the time complexity of some common dictionary operations:-\n",
        "\n",
        "#accessing a value by key: O(1) on average, o(n)worst case if there are many collisions.\n",
        "#adding a key-value pair: O(1) on average, o(n)worst case if the dictionary needs to be resized.\n",
        "#modifying a value by key: O(1) on average, o(n)worst case if there are many collisions.\n",
        "#removing a key-value pair by key: O(1) on average, o(n)worst case if there are many collisions.\n",
        "#iterating over the keys, values, or items: o(n), where n is the number of key-value pairs in the dictionary."
      ],
      "metadata": {
        "id": "NvOLY8RopAzk"
      }
    },
    {
      "cell_type": "code",
      "source": [
        "Q.18) In what situations are lists preferred over dictionaries?\n"
      ],
      "metadata": {
        "id": "rsglzoVcqkgx"
      },
      "execution_count": null,
      "outputs": []
    },
    {
      "cell_type": "markdown",
      "source": [
        "==)) Lists are preferred over dictionaries in python when order matters, you need to store multiple values for an item, or when you are performing ordered operations like sorting.\n",
        "Lists also allow duplicate items, while dictionaries cannot have duplicate keys.\n",
        "\n",
        "#Order= lists are ordered collections, meaning the order of elements is preserved.\n",
        "#Multiple values= if you want to store multiple values for a single item, a list canbe used to hold those values.\n",
        "#Simple data storage= lists are simpler and easier to work with for basic data storage when you donot need the key-value association of a dictionary.\n",
        "#Ordered operations.\n",
        "#Duplication.\n"
      ],
      "metadata": {
        "id": "7irjeTfsqsRf"
      }
    },
    {
      "cell_type": "code",
      "source": [
        "Q.19) Why are dictionaries considered unordered, and how does that affect data retrieval?"
      ],
      "metadata": {
        "id": "YqkPr1nkr83-"
      },
      "execution_count": null,
      "outputs": []
    },
    {
      "cell_type": "markdown",
      "source": [
        "==)) Why?\n",
        "     #Dictionary is termed as an unordered collection of object because the printed order of elements is not same as the order in which the elements are stored.\n",
        "     #Dictionaries are structured to lookup information quickly, rather than to keep ordered information.\n",
        "\n",
        "     How does affect data retrieval?\n",
        "     #you can't access dictionary elements based on their position value.\n",
        "     #you need to provide a key to access the corresponding value.\n",
        "     #when you loop through a dictionary, you will go through every day, but you are not guaranteed to get them in any particular order.\n",
        "     "
      ],
      "metadata": {
        "id": "7fGIM5LRsITa"
      }
    },
    {
      "cell_type": "code",
      "source": [
        "Q.20) Explain the difference between a list and a dictionary in terms of data retrieval."
      ],
      "metadata": {
        "id": "JTwUabMxtL_E"
      },
      "execution_count": null,
      "outputs": []
    },
    {
      "cell_type": "markdown",
      "source": [
        "==)) In python, lists are best for sequential data access, while dictionaries are best for data retrieval by specific identifiers.\n",
        "\n",
        "## List: #data structure= ordered collections of items\n",
        "         #access= accessed by index\n",
        "         #duplicates= allows duplicates items\n",
        "         #data types= can store any data type\n",
        "         #use cases= ordered collections and sequence operations.\n",
        "\n",
        "## Dictionary: #data structure= unordered collections of key-value pairs\n",
        "               #access= accessed by key\n",
        "               #duplicates= doesnot allow duplicates keys\n",
        "               #data types= keys canbe of any immutable data type, values canbe of any data type\n",
        "               #use cases= quick data look-ups, configurations, or caches."
      ],
      "metadata": {
        "id": "8DP5oiAHtVY_"
      }
    },
    {
      "cell_type": "code",
      "source": [
        "PRACTICAL QUESTIONS.."
      ],
      "metadata": {
        "id": "m4cWgWoaujez"
      },
      "execution_count": null,
      "outputs": []
    },
    {
      "cell_type": "code",
      "source": [
        "Q.1) Write a code to create a string with your name and print it.\n"
      ],
      "metadata": {
        "id": "fxQxI7oEumW8"
      },
      "execution_count": null,
      "outputs": []
    },
    {
      "cell_type": "code",
      "source": [
        "==))   name= \"My name is Sakshi\"\n",
        "       print(name)\n",
        "       OUTPUT- My name is Sakshi"
      ],
      "metadata": {
        "id": "rixuAwXwuwUo"
      },
      "execution_count": null,
      "outputs": []
    },
    {
      "cell_type": "code",
      "source": [
        "Q.2) Write a code to find the length of the string \"Hello World\"\n"
      ],
      "metadata": {
        "id": "A09VAA2Pu-AS"
      },
      "execution_count": null,
      "outputs": []
    },
    {
      "cell_type": "markdown",
      "source": [
        "==))      string= \"Hello World\"\n",
        "          length= len(string)\n",
        "          print(length)\n",
        "          OUTPUT- 11\n",
        "          "
      ],
      "metadata": {
        "id": "yS3zMzmsvNnj"
      }
    },
    {
      "cell_type": "code",
      "source": [
        "Q.3) Write a code to slice the first 3 characters from the string \"python programming\""
      ],
      "metadata": {
        "id": "mR_gMpZrvaQG"
      },
      "execution_count": null,
      "outputs": []
    },
    {
      "cell_type": "markdown",
      "source": [
        "==))  string= \"python programming\"\n",
        "      first_three= string[:3]\n",
        "      print(first_three)\n",
        "      OUTPUT- pyt"
      ],
      "metadata": {
        "id": "WwD00YJwvoRt"
      }
    },
    {
      "cell_type": "code",
      "source": [
        "Q.4) Write a code to convert the string \"hello\" to uppercase.\n"
      ],
      "metadata": {
        "id": "BEoxlg8kv9wT"
      },
      "execution_count": null,
      "outputs": []
    },
    {
      "cell_type": "markdown",
      "source": [
        "==))     str= \"hello\"\n",
        "         print(str.upper())\n",
        "         OUTPUT- 'hello'\n",
        "         "
      ],
      "metadata": {
        "id": "f8Czbn2NwGrU"
      }
    },
    {
      "cell_type": "code",
      "source": [
        "Q.5) Write a code to replace the word \"apple\" with \"orange\" in the string \"I like apple\".\n"
      ],
      "metadata": {
        "id": "C7W70uoywQ7l"
      },
      "execution_count": null,
      "outputs": []
    },
    {
      "cell_type": "markdown",
      "source": [
        "==))  str= \"I like apple\"\n",
        "      new_string= string.replace('apple', 'orange')\n",
        "      print(new_string)\n",
        "      OUTPUT- 'I like orange'"
      ],
      "metadata": {
        "id": "_64rQDRcwsMF"
      }
    },
    {
      "cell_type": "code",
      "source": [
        "Q.6) Write a code to create a list with numbers 1 to 5 and print it."
      ],
      "metadata": {
        "id": "Ji21RdcXxKpk"
      },
      "execution_count": null,
      "outputs": []
    },
    {
      "cell_type": "markdown",
      "source": [
        "==))    numbers= []\n",
        "        for i in range(1,6):\n",
        "            numbers.append(i)\n",
        "        print(numbers)\n",
        "        OUTPUT- [1,2,3,4,5]"
      ],
      "metadata": {
        "id": "ivYXiGbAxSf0"
      }
    },
    {
      "cell_type": "code",
      "source": [
        "Q.7) Write a code to append the number 10 to the list [1,2,3,4]."
      ],
      "metadata": {
        "id": "BWiREx82xhVd"
      },
      "execution_count": null,
      "outputs": []
    },
    {
      "cell_type": "markdown",
      "source": [
        "==))    my_list= [1,2,3,4]\n",
        "        my_list.append(10)\n",
        "        print(my_list)\n",
        "        OUTPUT- [1,2,3,4,10]"
      ],
      "metadata": {
        "id": "wslXEo6Kxyu6"
      }
    },
    {
      "cell_type": "code",
      "source": [
        "Q.8) Write a code to remove the number 3 from the list [1,2,3,4,5]."
      ],
      "metadata": {
        "id": "ZMrS-KDlyE1K"
      },
      "execution_count": null,
      "outputs": []
    },
    {
      "cell_type": "markdown",
      "source": [
        "==))  numbers= [1,2,3,4,5]\n",
        "      numbers.remove(3)\n",
        "      print(numbers)\n",
        "      OUTPUT- [1,2,4,5]"
      ],
      "metadata": {
        "id": "1ocaXqgZyeiW"
      }
    },
    {
      "cell_type": "code",
      "source": [
        "Q.9) Write a code to access the second element in the list ['a','b','c','d']."
      ],
      "metadata": {
        "id": "Qq-cYgJHy3S8"
      },
      "execution_count": null,
      "outputs": []
    },
    {
      "cell_type": "markdown",
      "source": [
        "==))  my_list= ['a','b','c','d']\n",
        "      second_element= my_list[1]\n",
        "      print(second_element)\n",
        "      OUTPUT- b"
      ],
      "metadata": {
        "id": "aYx75xrmzFdX"
      }
    },
    {
      "cell_type": "code",
      "source": [
        "Q.10) Write a code to reverse the list [10,20,30,40,50]."
      ],
      "metadata": {
        "id": "p6X0zO_NzXpv"
      },
      "execution_count": null,
      "outputs": []
    },
    {
      "cell_type": "markdown",
      "source": [
        "==))  my_list= [10,20,30,40,50]\n",
        "      reversed_list= my_list[::-1]\n",
        "      print(reversed_list)\n",
        "      OUTPUT- [50,40,30,20,10]\n",
        "      "
      ],
      "metadata": {
        "id": "jCUwmbrL0Jtd"
      }
    },
    {
      "cell_type": "code",
      "source": [
        "Q.11) Write a code to create a tuple with the elements 100,200,300 and print it.\n"
      ],
      "metadata": {
        "id": "ryoAEBpw0d2j"
      },
      "execution_count": null,
      "outputs": []
    },
    {
      "cell_type": "markdown",
      "source": [
        "==))     my_tuple= (100,200,300)\n",
        "         print(my_tuple)\n",
        "         OUTPUT- (100,200,300)\n",
        "         "
      ],
      "metadata": {
        "id": "lSE6K_JG0sIn"
      }
    },
    {
      "cell_type": "code",
      "source": [
        "Q.12) Write a code to access the second-to-last element of the tuple ('red','green','blue','yellow')."
      ],
      "metadata": {
        "id": "J6gN03gu05rR"
      },
      "execution_count": null,
      "outputs": []
    },
    {
      "cell_type": "markdown",
      "source": [
        "==))   colors= (\"red\",\"green\",\"blue\",\"yellow\")\n",
        "       second_to_last= colors[-2]\n",
        "       print(second_to_last)\n",
        "       OUTPUT- 'blue'"
      ],
      "metadata": {
        "id": "o-KitdQN1JWF"
      }
    },
    {
      "cell_type": "code",
      "source": [
        "Q.13) Write a code to find the minimum number in the tuple (10,20,5,15)."
      ],
      "metadata": {
        "id": "Hf0SfK0x1fJa"
      },
      "execution_count": null,
      "outputs": []
    },
    {
      "cell_type": "markdown",
      "source": [
        "==))     my_tuple= (10,20,5,15)\n",
        "         min_number= min(my_tuple)\n",
        "         print(min_number)\n",
        "         OUTPUT- 5"
      ],
      "metadata": {
        "id": "9gTlbnxO1qTS"
      }
    },
    {
      "cell_type": "code",
      "source": [
        "Q.14) Write a code to find the index of the element \"cat\" in the tuple ('dog,'cat','rabbit')."
      ],
      "metadata": {
        "id": "rq8Csd-Z16GH"
      },
      "execution_count": null,
      "outputs": []
    },
    {
      "cell_type": "markdown",
      "source": [
        "==))   my_tuple= ('dog','cat','rabbit')\n",
        "       index= my_tuple.index('cat')\n",
        "       print(index)\n",
        "       OUTPUT- 1\n",
        "       "
      ],
      "metadata": {
        "id": "LyK_LYQb2af1"
      }
    },
    {
      "cell_type": "code",
      "source": [
        "Q.15) Write a code to create a tuple containing three different fruits and check if \"kiwi\" is in it."
      ],
      "metadata": {
        "id": "I0KQBsOC2qPZ"
      },
      "execution_count": null,
      "outputs": []
    },
    {
      "cell_type": "markdown",
      "source": [
        "==))    fruits= (\"apple\",\"grapes\",\"kiwi\")\n",
        "        if \"kiwi\" in fruits:\n",
        "            print(\"yes,kiwi is in the tuple\")\n",
        "        else:\n",
        "            print(\"no,kiwi is not in the tuple\")\n",
        "        OUTPUT- yes, kiwi is in the tuple\n",
        "        "
      ],
      "metadata": {
        "id": "E0RyApwe2__P"
      }
    },
    {
      "cell_type": "code",
      "source": [
        "Q.16) Write a code to create a set with the elements 'a','b','c' and print it."
      ],
      "metadata": {
        "id": "gxzeVazM3inw"
      },
      "execution_count": null,
      "outputs": []
    },
    {
      "cell_type": "markdown",
      "source": [
        "==))  my_set= {'a','b','c'}\n",
        "      print(my_set)\n",
        "      OUTPUT- {'a,'b','c'}"
      ],
      "metadata": {
        "id": "VZYq3aXM3v-w"
      }
    },
    {
      "cell_type": "code",
      "source": [
        "Q.17) Write a code to clear all elements from the set {1,2,3,4,5}."
      ],
      "metadata": {
        "id": "feOBNuAL3-IW"
      },
      "execution_count": null,
      "outputs": []
    },
    {
      "cell_type": "markdown",
      "source": [
        "==))     my_set= {1,2,3,4,5}\n",
        "         my_set.clear()\n",
        "         print(my_set)\n",
        "         OUTPUT- ()"
      ],
      "metadata": {
        "id": "CSCSNgzK4PDi"
      }
    },
    {
      "cell_type": "code",
      "source": [
        "Q.18) Write a code to remove the element 4 from the set {1,2,3,4}."
      ],
      "metadata": {
        "id": "VyCbXxma4bDL"
      },
      "execution_count": null,
      "outputs": []
    },
    {
      "cell_type": "markdown",
      "source": [
        "==))   my_set= {1,2,3,4}\n",
        "       my_set.remove(4)\n",
        "       print(my_set)\n",
        "       OUTPUT- {1,2,3}"
      ],
      "metadata": {
        "id": "sipIZg6_4k7M"
      }
    },
    {
      "cell_type": "code",
      "source": [
        "Q.19) Write a code to find the union of two sets {1,2,3} and {3,4,5}."
      ],
      "metadata": {
        "id": "xHcRwoIe40Ij"
      },
      "execution_count": null,
      "outputs": []
    },
    {
      "cell_type": "markdown",
      "source": [
        "==))   set1= {1,2,3}\n",
        "       set2= {3,4,5}\n",
        "       union_set= set1.union(set2)\n",
        "       print(union_set)\n",
        "       OUTPUT- {1,2,3,4,5}"
      ],
      "metadata": {
        "id": "w7wUT7kx49Tc"
      }
    },
    {
      "cell_type": "code",
      "source": [
        "Q.20) Write a code to find the intersection of two sets {1,2,3} and {2,3,4}."
      ],
      "metadata": {
        "id": "DBMfqBCx5P2I"
      },
      "execution_count": null,
      "outputs": []
    },
    {
      "cell_type": "markdown",
      "source": [
        "==))   set1= {1,2,3}\n",
        "       set2= {2,3,4}\n",
        "       intersection= set1&set2\n",
        "       print(intersection)\n",
        "       OUTPUT- {2,3}"
      ],
      "metadata": {
        "id": "iArnD-WN5gG0"
      }
    },
    {
      "cell_type": "code",
      "source": [
        "Q.21) Write a code to create a dictionary with the keys \"name\",\"age\", and \"city\", and print it."
      ],
      "metadata": {
        "id": "M5dCj5F35yxD"
      },
      "execution_count": null,
      "outputs": []
    },
    {
      "cell_type": "markdown",
      "source": [
        "==)) person= {'name': 'Ankita',\n",
        "               'age': 26,\n",
        "               'city': 'Delhi'}\n",
        "     print(person)\n",
        "     OUTPUT- {'name': 'Ankita', 'age':26, 'city': 'Delhi'}"
      ],
      "metadata": {
        "id": "xw6Pkuku5_dU"
      }
    },
    {
      "cell_type": "code",
      "source": [
        "Q.22) Write a code to add a new key-value pair \"country\": \"USA\" to the dictionary {'name': 'John', 'age':25}."
      ],
      "metadata": {
        "id": "Z6KXSQxP6jyV"
      },
      "execution_count": null,
      "outputs": []
    },
    {
      "cell_type": "markdown",
      "source": [
        "==)) person{'name':'John',\n",
        "             'age': 25}\n",
        "     person['contry']= 'USA'\n",
        "     print(person)\n",
        "     OUTPUT- {'name':'John', 'age':25, 'country':'USA'}"
      ],
      "metadata": {
        "id": "5T9xwb1d66e-"
      }
    },
    {
      "cell_type": "code",
      "source": [
        "Q.23) Write a code to access the value associated with the key \"name\" in the dictionary {'name':'Alice','age':30}."
      ],
      "metadata": {
        "id": "0sPgCFmL7WQl"
      },
      "execution_count": null,
      "outputs": []
    },
    {
      "cell_type": "markdown",
      "source": [
        "==))    person= {'name':'Alice',\n",
        "                  'age': 30}\n",
        "        name_value= person['name']\n",
        "        print(name_value)\n",
        "        OUTPUT- Alice"
      ],
      "metadata": {
        "id": "obqAb8Zk7rv0"
      }
    },
    {
      "cell_type": "code",
      "source": [
        "Q.24) Write a code to remove the key \"age\" from the dictionary {'name':'Bob','age':22,'city':'New York'}."
      ],
      "metadata": {
        "id": "Md3EXghh8Ajv"
      },
      "execution_count": null,
      "outputs": []
    },
    {
      "cell_type": "markdown",
      "source": [
        "==))  person= {'name':'Bob',\n",
        "                'age': 22,\n",
        "                'city': 'New York'}\n",
        "      del person['age']\n",
        "      print(person)\n",
        "      OUTPUT- {'name':'Bob','city':'New York'}"
      ],
      "metadata": {
        "id": "nIuzeH4T8SqC"
      }
    },
    {
      "cell_type": "code",
      "source": [
        "Q.25) Write a code to check if the key \"city\" exists in the dictionary {'name':'Alice','city':'Paris'}."
      ],
      "metadata": {
        "id": "4IL2xpEf87eG"
      },
      "execution_count": null,
      "outputs": []
    },
    {
      "cell_type": "markdown",
      "source": [
        "==)) person= {'name':'Alice',\n",
        "              'city':'Paris'}\n",
        "     if 'city' in person:\n",
        "         print(\"'city' exists in the dictionary\")\n",
        "     else:\n",
        "         print(\"'city' does not exist in the dictionary\")\n",
        "    OUTPUT- 'city' exists in the dictionary"
      ],
      "metadata": {
        "id": "N42HueKU9LRe"
      }
    },
    {
      "cell_type": "code",
      "source": [
        "Q.26) Write a code to create a list, a tuple, and a dictionary, and print them all."
      ],
      "metadata": {
        "id": "1Afp_Kp_9shq"
      },
      "execution_count": null,
      "outputs": []
    },
    {
      "cell_type": "markdown",
      "source": [
        "==))  my_list= [10,20,25,30,40]\n",
        "      my_tuple= ('a','b','c')\n",
        "      my_dict= {'name':'Ramesh','age':30,'city':'Lucknow'}\n",
        "      print(my_list)\n",
        "      print(my_tuple)\n",
        "      print(my_dict)\n",
        "    OUTPUT- [10,20,25,30,40]\n",
        "            ('a','b','c')\n",
        "            {'name':'Ramesh','age':30,'city':'Lucknow'}"
      ],
      "metadata": {
        "id": "-h5YW9_C93Py"
      }
    },
    {
      "cell_type": "code",
      "source": [
        "Q.27) Write a code to create a list of 5 random numbers between 1 to 100, sort it in ascending order, print the result.(replaced)"
      ],
      "metadata": {
        "id": "hSw19j2b-rJK"
      },
      "execution_count": null,
      "outputs": []
    },
    {
      "cell_type": "markdown",
      "source": [
        "==)) random_numbers= [random.randint(1,100) for _i range(5)]\n",
        "     random_numbers.sort()\n",
        "     print(random_numbers)\n",
        "     OUTPUT- 33, 47, 63, 69, 90"
      ],
      "metadata": {
        "id": "9cYiEfj--6hD"
      }
    },
    {
      "cell_type": "code",
      "source": [
        "Q.28) Write a code to create a list with strings and print the element at the third index.\n"
      ],
      "metadata": {
        "id": "e9ojZZW8CyvN"
      },
      "execution_count": null,
      "outputs": []
    },
    {
      "cell_type": "markdown",
      "source": [
        "==))  my_list= [\"shikha\",\"pinki\",\"Ankita\",\"poonam\",\"priyanka\"]\n",
        "      print(my_list[3])\n",
        "      OUTPUT- poonam"
      ],
      "metadata": {
        "id": "e-rHUKxtC6hj"
      }
    },
    {
      "cell_type": "code",
      "source": [
        "Q.29) Write a code to combine two dictionaries into one and print the result."
      ],
      "metadata": {
        "id": "Id8OfqJ-DU9_"
      },
      "execution_count": null,
      "outputs": []
    },
    {
      "cell_type": "markdown",
      "source": [
        "==))   dict1= {\"a\":1, \"b\":2}\n",
        "       dict2= {\"c\":3, \"d\":4}\n",
        "       combine_dict= {**dict1, **dict2}\n",
        "       print(combine_dict)\n",
        "       OUTPUT- {'a':1, 'b':2, 'c':3, 'd':4}"
      ],
      "metadata": {
        "id": "TGl7p1AEDe_-"
      }
    },
    {
      "cell_type": "code",
      "source": [
        "Q.30) Write a code to convert a list of strings into a set."
      ],
      "metadata": {
        "id": "OlA-kfNaEG5D"
      },
      "execution_count": null,
      "outputs": []
    },
    {
      "cell_type": "markdown",
      "source": [
        "==))  string_list= [\"apple\",\"banana\",\"cherry\",\"apple\",\"banana\"]\n",
        "      string_set= set(string_list)\n",
        "      print(string_set)\n",
        "      OUTPUT- {'banana','apple','cherry'}"
      ],
      "metadata": {
        "id": "T5r-BxO4EOQ3"
      }
    }
  ]
}